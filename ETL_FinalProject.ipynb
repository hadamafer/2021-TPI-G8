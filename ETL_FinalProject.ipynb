{
  "cells": [
    {
      "cell_type": "markdown",
      "metadata": {
        "id": "view-in-github",
        "colab_type": "text"
      },
      "source": [
        "<a href=\"https://colab.research.google.com/github/hadamafer/2021-TPI-G8/blob/main/ETL_FinalProject.ipynb\" target=\"_parent\"><img src=\"https://colab.research.google.com/assets/colab-badge.svg\" alt=\"Open In Colab\"/></a>"
      ]
    },
    {
      "cell_type": "markdown",
      "metadata": {
        "id": "9iPot4EYmawJ"
      },
      "source": [
        "<center>\n",
        "    <img src=\"https://gitlab.com/ibm/skills-network/courses/placeholder101/-/raw/master/labs/module%201/images/IDSNlogo.png\" width=\"300\" alt=\"cognitiveclass.ai logo\"  />\n",
        "</center>\n"
      ]
    },
    {
      "cell_type": "markdown",
      "metadata": {
        "id": "WulC2QMXmawN"
      },
      "source": [
        "# Peer Review Assignment - Data Engineer - ETL\n"
      ]
    },
    {
      "cell_type": "markdown",
      "metadata": {
        "id": "uW8kXYHBmawN"
      },
      "source": [
        "Estimated time needed: **20** minutes\n"
      ]
    },
    {
      "cell_type": "markdown",
      "metadata": {
        "id": "ZIdeo4pomawN"
      },
      "source": [
        "## Objectives\n",
        "\n",
        "In this final part you will:\n",
        "\n",
        "*   Run the ETL process\n",
        "*   Extract bank and market cap data from the JSON file `bank_market_cap.json`\n",
        "*   Transform the market cap currency using the exchange rate data\n",
        "*   Load the transformed data into a seperate CSV\n"
      ]
    },
    {
      "cell_type": "markdown",
      "metadata": {
        "id": "44kiw4Z4mawO"
      },
      "source": [
        "For this lab, we are going to be using Python and several Python libraries. Some of these libraries might be installed in your lab environment or in SN Labs. Others may need to be installed by you. The cells below will install these libraries when executed.\n"
      ]
    },
    {
      "cell_type": "code",
      "execution_count": null,
      "metadata": {
        "id": "wNFk7tdSmawO"
      },
      "outputs": [],
      "source": [
        "#!pip install glob\n",
        "#!pip install pandas\n",
        "#!pip install requests\n",
        "#!pip install datetime"
      ]
    },
    {
      "cell_type": "markdown",
      "metadata": {
        "id": "MONoDHDRmawP"
      },
      "source": [
        "## Imports\n",
        "\n",
        "Import any additional libraries you may need here.\n"
      ]
    },
    {
      "cell_type": "code",
      "execution_count": null,
      "metadata": {
        "id": "Kvu6kjgcmawP"
      },
      "outputs": [],
      "source": [
        "import glob\n",
        "import pandas as pd\n",
        "from datetime import datetime"
      ]
    },
    {
      "cell_type": "markdown",
      "metadata": {
        "id": "rHCqx2zAmawQ"
      },
      "source": [
        "As the exchange rate fluctuates, we will download the same dataset to make marking simpler. This will be in the same format as the dataset you used in the last section\n"
      ]
    },
    {
      "cell_type": "code",
      "execution_count": null,
      "metadata": {
        "id": "JzT9J-Q_mawQ",
        "outputId": "380ef8e6-9d82-4a65-b88b-818bfe8822b8"
      },
      "outputs": [
        {
          "name": "stderr",
          "output_type": "stream",
          "text": [
            "\"wget\" no se reconoce como un comando interno o externo,\n",
            "programa o archivo por lotes ejecutable.\n",
            "\"wget\" no se reconoce como un comando interno o externo,\n",
            "programa o archivo por lotes ejecutable.\n",
            "\"wget\" no se reconoce como un comando interno o externo,\n",
            "programa o archivo por lotes ejecutable.\n"
          ]
        }
      ],
      "source": [
        "!wget https://cf-courses-data.s3.us.cloud-object-storage.appdomain.cloud/IBMDeveloperSkillsNetwork-PY0221EN-SkillsNetwork/labs/module%206/Lab%20-%20Extract%20Transform%20Load/data/bank_market_cap_1.json\n",
        "!wget https://cf-courses-data.s3.us.cloud-object-storage.appdomain.cloud/IBMDeveloperSkillsNetwork-PY0221EN-SkillsNetwork/labs/module%206/Lab%20-%20Extract%20Transform%20Load/data/bank_market_cap_2.json\n",
        "!wget https://cf-courses-data.s3.us.cloud-object-storage.appdomain.cloud/IBMDeveloperSkillsNetwork-PY0221EN-SkillsNetwork/labs/module%206/Final%20Assignment/exchange_rates.csv"
      ]
    },
    {
      "cell_type": "markdown",
      "metadata": {
        "id": "bFSpAWCjmawR"
      },
      "source": [
        "## Extract\n"
      ]
    },
    {
      "cell_type": "markdown",
      "metadata": {
        "id": "9kTPRt5PmawR"
      },
      "source": [
        "### JSON Extract Function\n",
        "\n",
        "This function will extract JSON files.\n"
      ]
    },
    {
      "cell_type": "code",
      "execution_count": null,
      "metadata": {
        "id": "etmLf0JZmawS"
      },
      "outputs": [],
      "source": [
        "def extract_from_json(file_to_process):\n",
        "    dataframe = pd.read_json(file_to_process,orient='columns')\n",
        "    return dataframe"
      ]
    },
    {
      "cell_type": "markdown",
      "metadata": {
        "id": "oeDnab1lmawS"
      },
      "source": [
        "## Extract Function\n",
        "\n",
        "Define the extract function that finds JSON file `bank_market_cap_1.json` and calls the function created above to extract data from them. Store the data in a `pandas` dataframe. Use the following list for the columns.\n"
      ]
    },
    {
      "cell_type": "code",
      "execution_count": null,
      "metadata": {
        "id": "zJe5yl6KmawS"
      },
      "outputs": [],
      "source": [
        "columns=['Name','Market Cap (US$ Billion)']"
      ]
    },
    {
      "cell_type": "code",
      "execution_count": null,
      "metadata": {
        "id": "OdqXQk2umawS"
      },
      "outputs": [],
      "source": [
        "def extract():\n",
        "    data_json=pd.DataFrame(columns=['Name','Country','Market Cap (US$ Billion)'])\n",
        "    jsonfile='bank_market_cap.json'\n",
        "    data_json=data_json.append(extract_from_json(jsonfile),ignore_index=True)\n",
        "    return(data_json)\n"
      ]
    },
    {
      "cell_type": "markdown",
      "metadata": {
        "id": "wkL8VhZ2mawT"
      },
      "source": [
        "<b>Question 1</b> Load the file <code>exchange_rates.csv</code> as a dataframe and find the exchange rate for British pounds with the symbol <code>GBP</code>, store it in the variable  <code>exchange_rate</code>, you will be asked for the number. Hint: set the parameter  <code>index_col</code> to 0.\n"
      ]
    },
    {
      "cell_type": "code",
      "execution_count": null,
      "metadata": {
        "id": "fbiB3YV_mawT"
      },
      "outputs": [],
      "source": [
        "csvfile='exchange_rates_1.csv'\n",
        "data_csv=pd.read_csv(csvfile)\n",
        "fila=data_csv.index[data_csv['pound'].str.contains(\"GBP\", case=False)]\n",
        "exchange_rate=float(data_csv.iloc[fila]['rates'])\n"
      ]
    },
    {
      "cell_type": "markdown",
      "metadata": {
        "id": "_81fD6VkmawT"
      },
      "source": [
        "## Transform\n",
        "\n",
        "Using <code>exchange_rate</code> and the `exchange_rates.csv` file find the exchange rate of USD to GBP. Write a transform function that\n",
        "\n",
        "1.  Changes the `Market Cap (US$ Billion)` column from USD to GBP\n",
        "2.  Rounds the Market Cap (US$ Billion)\\` column to 3 decimal places\n",
        "3.  Rename `Market Cap (US$ Billion)` to `Market Cap (GBP$ Billion)`\n"
      ]
    },
    {
      "cell_type": "code",
      "execution_count": null,
      "metadata": {
        "id": "TupnqYeBmawT"
      },
      "outputs": [],
      "source": [
        "\n",
        "def transform():\n",
        "    fila=data_csv.index[data_csv['pound'].str.contains(\"USD\", case=False)]\n",
        "    exchange_rate_us=data_csv.iloc[fila]['rates']\n",
        "    data_json2=data_json.rename(columns={'Market Cap (US$ Billion)':'Market'})\n",
        "    data_json2['Market']=round(((data_json2.Market*float(exchange_rate))*float(exchange_rate_us)),3)\n",
        "    \n",
        "    data_json3=data_json2.rename(columns={'Market':'Market Cap (GBP$ Billion)'})\n",
        "    return(data_json3)\n",
        "\n"
      ]
    },
    {
      "cell_type": "markdown",
      "metadata": {
        "id": "gB9VDDhImawT"
      },
      "source": [
        "## Load\n",
        "\n",
        "Create a function that takes a dataframe and load it to a csv named `bank_market_cap_gbp.csv`. Make sure to set `index` to `False`.\n"
      ]
    },
    {
      "cell_type": "code",
      "execution_count": null,
      "metadata": {
        "id": "4mRnUFnImawT"
      },
      "outputs": [],
      "source": [
        "def load(nombre,data):\n",
        "    data.to_csv(nombre, index=False)\n",
        "    # Write your code here\n",
        "\n"
      ]
    },
    {
      "cell_type": "markdown",
      "metadata": {
        "id": "dCGwO_kdmawU"
      },
      "source": [
        "## Logging Function\n"
      ]
    },
    {
      "cell_type": "markdown",
      "metadata": {
        "id": "ey1FyOoXmawU"
      },
      "source": [
        "Write the logging function <code>log</code> to log your data:\n"
      ]
    },
    {
      "cell_type": "code",
      "execution_count": null,
      "metadata": {
        "id": "_2AScTYimawU"
      },
      "outputs": [],
      "source": [
        "def log(mensaje):\n",
        "    times_f='%Y-%h-%d-%H:%M:%S'\n",
        "    now=datetime.now()\n",
        "    times=now.strftime(times_f)\n",
        "    with open('logfile.txt','a') as f:\n",
        "        f.write(times + ','+mensaje+'\\n')\n",
        "    "
      ]
    },
    {
      "cell_type": "markdown",
      "metadata": {
        "id": "c61YlN7bmawU"
      },
      "source": [
        "## Running the ETL Process\n"
      ]
    },
    {
      "cell_type": "markdown",
      "metadata": {
        "id": "rga3fvz-mawU"
      },
      "source": [
        "Log the process accordingly using the following <code>\"ETL Job Started\"</code> and <code>\"Extract phase Started\"</code>\n"
      ]
    },
    {
      "cell_type": "code",
      "execution_count": null,
      "metadata": {
        "id": "afLgWCKXmawU"
      },
      "outputs": [],
      "source": [
        "log('ETL START')\n",
        "log('extract started')\n"
      ]
    },
    {
      "cell_type": "markdown",
      "metadata": {
        "id": "mbsz-sSBmawU"
      },
      "source": [
        "### Extract\n"
      ]
    },
    {
      "cell_type": "markdown",
      "metadata": {
        "id": "PGKp_XmimawU"
      },
      "source": [
        "<code>Question 2</code> Use the function <code>extract</code>, and print the first 5 rows, take a screen shot:\n"
      ]
    },
    {
      "cell_type": "code",
      "execution_count": null,
      "metadata": {
        "id": "Cb2hjEgvmawU",
        "outputId": "72f7940a-efd8-4265-e56d-6219ce376be2"
      },
      "outputs": [
        {
          "data": {
            "text/html": [
              "<div>\n",
              "<style scoped>\n",
              "    .dataframe tbody tr th:only-of-type {\n",
              "        vertical-align: middle;\n",
              "    }\n",
              "\n",
              "    .dataframe tbody tr th {\n",
              "        vertical-align: top;\n",
              "    }\n",
              "\n",
              "    .dataframe thead th {\n",
              "        text-align: right;\n",
              "    }\n",
              "</style>\n",
              "<table border=\"1\" class=\"dataframe\">\n",
              "  <thead>\n",
              "    <tr style=\"text-align: right;\">\n",
              "      <th></th>\n",
              "      <th>Name</th>\n",
              "      <th>Country</th>\n",
              "      <th>Market Cap (US$ Billion)</th>\n",
              "    </tr>\n",
              "  </thead>\n",
              "  <tbody>\n",
              "    <tr>\n",
              "      <th>0</th>\n",
              "      <td>JPMorgan Chase\\n</td>\n",
              "      <td>United States</td>\n",
              "      <td>488.470</td>\n",
              "    </tr>\n",
              "    <tr>\n",
              "      <th>1</th>\n",
              "      <td>Bank of America\\n</td>\n",
              "      <td>United States</td>\n",
              "      <td>401.750</td>\n",
              "    </tr>\n",
              "    <tr>\n",
              "      <th>2</th>\n",
              "      <td>Industrial and Commercial Bank of China\\n</td>\n",
              "      <td>China</td>\n",
              "      <td>250.383</td>\n",
              "    </tr>\n",
              "    <tr>\n",
              "      <th>3</th>\n",
              "      <td>Wells Fargo\\n</td>\n",
              "      <td>United States</td>\n",
              "      <td>224.870</td>\n",
              "    </tr>\n",
              "    <tr>\n",
              "      <th>4</th>\n",
              "      <td>China Construction Bank\\n</td>\n",
              "      <td>China</td>\n",
              "      <td>257.399</td>\n",
              "    </tr>\n",
              "  </tbody>\n",
              "</table>\n",
              "</div>"
            ],
            "text/plain": [
              "                                         Name        Country  \\\n",
              "0                            JPMorgan Chase\\n  United States   \n",
              "1                           Bank of America\\n  United States   \n",
              "2   Industrial and Commercial Bank of China\\n          China   \n",
              "3                               Wells Fargo\\n  United States   \n",
              "4                   China Construction Bank\\n          China   \n",
              "\n",
              "   Market Cap (US$ Billion)  \n",
              "0                   488.470  \n",
              "1                   401.750  \n",
              "2                   250.383  \n",
              "3                   224.870  \n",
              "4                   257.399  "
            ]
          },
          "execution_count": 35,
          "metadata": {},
          "output_type": "execute_result"
        }
      ],
      "source": [
        "# Call the function here\n",
        "data_json=extract()\n",
        "\n",
        "# Print the rows here\n",
        "data_json.head()"
      ]
    },
    {
      "cell_type": "markdown",
      "metadata": {
        "id": "WNl7epQ5mawV"
      },
      "source": [
        "Log the data as <code>\"Extract phase Ended\"</code>\n"
      ]
    },
    {
      "cell_type": "code",
      "execution_count": null,
      "metadata": {
        "id": "0X7AoPJ4mawV"
      },
      "outputs": [],
      "source": [
        "# Write your code here\n",
        "log('extract finished')\n"
      ]
    },
    {
      "cell_type": "markdown",
      "metadata": {
        "id": "6qOEKeq_mawV"
      },
      "source": [
        "### Transform\n"
      ]
    },
    {
      "cell_type": "markdown",
      "metadata": {
        "id": "qpPl-fWumawV"
      },
      "source": [
        "Log the following  <code>\"Transform phase Started\"</code>\n"
      ]
    },
    {
      "cell_type": "code",
      "execution_count": null,
      "metadata": {
        "id": "ofVEx1D9mawV"
      },
      "outputs": [],
      "source": [
        "# Write your code here\n",
        "log('transform started')\n"
      ]
    },
    {
      "cell_type": "markdown",
      "metadata": {
        "id": "S7T8i0rpmawV"
      },
      "source": [
        "<code>Question 3</code> Use the function <code>transform</code> and print the first 5 rows of the output, take a screen shot:\n"
      ]
    },
    {
      "cell_type": "code",
      "execution_count": null,
      "metadata": {
        "id": "T5Ivl-7BmawV",
        "outputId": "22cb5d28-c517-413a-9bbc-9f8fb133cea6"
      },
      "outputs": [
        {
          "data": {
            "text/html": [
              "<div>\n",
              "<style scoped>\n",
              "    .dataframe tbody tr th:only-of-type {\n",
              "        vertical-align: middle;\n",
              "    }\n",
              "\n",
              "    .dataframe tbody tr th {\n",
              "        vertical-align: top;\n",
              "    }\n",
              "\n",
              "    .dataframe thead th {\n",
              "        text-align: right;\n",
              "    }\n",
              "</style>\n",
              "<table border=\"1\" class=\"dataframe\">\n",
              "  <thead>\n",
              "    <tr style=\"text-align: right;\">\n",
              "      <th></th>\n",
              "      <th>Name</th>\n",
              "      <th>Country</th>\n",
              "      <th>Market Cap (GBP$ Billion)</th>\n",
              "    </tr>\n",
              "  </thead>\n",
              "  <tbody>\n",
              "    <tr>\n",
              "      <th>0</th>\n",
              "      <td>JPMorgan Chase\\n</td>\n",
              "      <td>United States</td>\n",
              "      <td>465.512</td>\n",
              "    </tr>\n",
              "    <tr>\n",
              "      <th>1</th>\n",
              "      <td>Bank of America\\n</td>\n",
              "      <td>United States</td>\n",
              "      <td>382.868</td>\n",
              "    </tr>\n",
              "    <tr>\n",
              "      <th>2</th>\n",
              "      <td>Industrial and Commercial Bank of China\\n</td>\n",
              "      <td>China</td>\n",
              "      <td>238.615</td>\n",
              "    </tr>\n",
              "    <tr>\n",
              "      <th>3</th>\n",
              "      <td>Wells Fargo\\n</td>\n",
              "      <td>United States</td>\n",
              "      <td>214.301</td>\n",
              "    </tr>\n",
              "    <tr>\n",
              "      <th>4</th>\n",
              "      <td>China Construction Bank\\n</td>\n",
              "      <td>China</td>\n",
              "      <td>245.301</td>\n",
              "    </tr>\n",
              "  </tbody>\n",
              "</table>\n",
              "</div>"
            ],
            "text/plain": [
              "                                         Name        Country  \\\n",
              "0                            JPMorgan Chase\\n  United States   \n",
              "1                           Bank of America\\n  United States   \n",
              "2   Industrial and Commercial Bank of China\\n          China   \n",
              "3                               Wells Fargo\\n  United States   \n",
              "4                   China Construction Bank\\n          China   \n",
              "\n",
              "   Market Cap (GBP$ Billion)  \n",
              "0                    465.512  \n",
              "1                    382.868  \n",
              "2                    238.615  \n",
              "3                    214.301  \n",
              "4                    245.301  "
            ]
          },
          "execution_count": 36,
          "metadata": {},
          "output_type": "execute_result"
        }
      ],
      "source": [
        "# Call the function here\n",
        "data_json=transform()\n",
        "# Print the first 5 rows here\n",
        "data_json.head()"
      ]
    },
    {
      "cell_type": "markdown",
      "metadata": {
        "id": "XKEOXR7KmawV"
      },
      "source": [
        "Log your data <code>\"Transform phase Ended\"</code>\n"
      ]
    },
    {
      "cell_type": "code",
      "execution_count": null,
      "metadata": {
        "id": "B62hI-DamawV"
      },
      "outputs": [],
      "source": [
        "# Write your code here\n",
        "log('transform finished')\n"
      ]
    },
    {
      "cell_type": "markdown",
      "metadata": {
        "id": "KFjRe-lDmawV"
      },
      "source": [
        "### Load\n"
      ]
    },
    {
      "cell_type": "markdown",
      "metadata": {
        "id": "w_T9121HmawV"
      },
      "source": [
        "Log the following `\"Load phase Started\"`.\n"
      ]
    },
    {
      "cell_type": "code",
      "execution_count": null,
      "metadata": {
        "id": "zU4OqCCKmawW"
      },
      "outputs": [],
      "source": [
        "# Write your code here\n",
        "log('load started')\n"
      ]
    },
    {
      "cell_type": "markdown",
      "metadata": {
        "id": "VtpdsyeqmawW"
      },
      "source": [
        "Call the load function\n"
      ]
    },
    {
      "cell_type": "code",
      "execution_count": null,
      "metadata": {
        "id": "tPsLfXiqmawW"
      },
      "outputs": [],
      "source": [
        "# Write your code here\n",
        "nombre= 'bank_market_cap_gbp.csv'\n",
        "load(nombre,data_json)\n"
      ]
    },
    {
      "cell_type": "markdown",
      "metadata": {
        "id": "MTFVA-VDmawW"
      },
      "source": [
        "Log the following `\"Load phase Ended\"`.\n"
      ]
    },
    {
      "cell_type": "code",
      "execution_count": null,
      "metadata": {
        "id": "c0UEc59hmawW"
      },
      "outputs": [],
      "source": [
        "# Write your code here\n",
        "log('load finished')\n",
        "log('etl ended')"
      ]
    },
    {
      "cell_type": "markdown",
      "metadata": {
        "id": "yxUxDWeymawW"
      },
      "source": [
        "## Authors\n"
      ]
    },
    {
      "cell_type": "markdown",
      "metadata": {
        "id": "i6aapWg-mawW"
      },
      "source": [
        "Ramesh Sannareddy, Joseph Santrcangelo and Azim Hirjani\n"
      ]
    },
    {
      "cell_type": "markdown",
      "metadata": {
        "id": "cQUYG2eKmawW"
      },
      "source": [
        "### Other Contributors\n"
      ]
    },
    {
      "cell_type": "markdown",
      "metadata": {
        "id": "V-9KoOgGmawW"
      },
      "source": [
        "Rav Ahuja\n"
      ]
    },
    {
      "cell_type": "markdown",
      "metadata": {
        "id": "Nuvjc4JZmawW"
      },
      "source": [
        "## Change Log\n"
      ]
    },
    {
      "cell_type": "markdown",
      "metadata": {
        "id": "XKBtP0GImawW"
      },
      "source": [
        "| Date (YYYY-MM-DD) | Version | Changed By        | Change Description                 |\n",
        "| ----------------- | ------- | ----------------- | ---------------------------------- |\n",
        "| 2020-11-25        | 0.1     | Ramesh Sannareddy | Created initial version of the lab |\n"
      ]
    },
    {
      "cell_type": "markdown",
      "metadata": {
        "id": "Y1OOb4jimawW"
      },
      "source": [
        "Copyright © 2020 IBM Corporation. This notebook and its source code are released under the terms of the [MIT License](https://cognitiveclass.ai/mit-license?utm_medium=Exinfluencer&utm_source=Exinfluencer&utm_content=000026UJ&utm_term=10006555&utm_id=NA-SkillsNetwork-Channel-SkillsNetworkCoursesIBMDeveloperSkillsNetworkPY0221ENSkillsNetwork23455645-2021-01-01&cm_mmc=Email_Newsletter-\\_-Developer_Ed%2BTech-\\_-WW_WW-\\_-SkillsNetwork-Courses-IBM-DA0321EN-SkillsNetwork-21426264&cm_mmca1=000026UJ&cm_mmca2=10006555&cm_mmca3=M12345678&cvosrc=email.Newsletter.M12345678&cvo_campaign=000026UJ).\n"
      ]
    }
  ],
  "metadata": {
    "kernelspec": {
      "display_name": "Python 3 (ipykernel)",
      "language": "python",
      "name": "python3"
    },
    "language_info": {
      "codemirror_mode": {
        "name": "ipython",
        "version": 3
      },
      "file_extension": ".py",
      "mimetype": "text/x-python",
      "name": "python",
      "nbconvert_exporter": "python",
      "pygments_lexer": "ipython3",
      "version": "3.7.0"
    },
    "colab": {
      "name": "ETL_Engineer_Peer_Review_Assignment.ipynb",
      "provenance": [],
      "include_colab_link": true
    }
  },
  "nbformat": 4,
  "nbformat_minor": 0
}